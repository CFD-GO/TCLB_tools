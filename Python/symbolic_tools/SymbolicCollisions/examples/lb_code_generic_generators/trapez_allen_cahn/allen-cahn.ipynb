{
 "cells": [
  {
   "cell_type": "code",
   "execution_count": 2,
   "metadata": {
    "pycharm": {
     "is_executing": true
    }
   },
   "outputs": [],
   "source": [
    "from sympy import *\n",
    "import numpy as np\n",
    "import matplotlib.pyplot as plt\n",
    "%matplotlib inline\n",
    "init_printing(use_latex='mathjax')"
   ]
  },
  {
   "cell_type": "code",
   "execution_count": 3,
   "metadata": {
    "pycharm": {
     "is_executing": true
    }
   },
   "outputs": [
    {
     "data": {
      "text/latex": [
       "$\\displaystyle \\left( \\tilde{\\phi}, \\  \\delta{t}\\right)$"
      ],
      "text/plain": [
       "(\\tilde{\\phi}, \\delta{t})"
      ]
     },
     "execution_count": 3,
     "metadata": {},
     "output_type": "execute_result"
    }
   ],
   "source": [
    "phi = symbols('\\phi', real=True) # nieprzesuniete\n",
    "Lam = symbols('\\lambda', real=True, positive=True, nonzero=True)\n",
    "DT = symbols('\\delta{t}', real=True, positive=True, nonzero=True)\n",
    "\n",
    "tilde_phi= symbols('\\\\tilde{\\phi}', real=True)\n",
    "tilde_phi, DT"
   ]
  },
  {
   "cell_type": "code",
   "execution_count": 4,
   "metadata": {
    "pycharm": {
     "is_executing": true
    }
   },
   "outputs": [],
   "source": [
    "given = [tilde_phi]\n",
    "\n",
    "unknown = [phi]\n",
    "\n",
    "Q = [Lam*phi*(1-phi**2)]\n",
    "\n",
    "M = Matrix"
   ]
  },
  {
   "cell_type": "code",
   "execution_count": 15,
   "metadata": {
    "pycharm": {
     "is_executing": true
    }
   },
   "outputs": [
    {
     "data": {
      "text/latex": [
       "$\\displaystyle \\left[\\begin{matrix}\\tilde{\\phi}\\end{matrix}\\right] = \\left[\\begin{matrix}- \\frac{\\lambda \\phi \\left(1 - \\phi^{2}\\right)}{2} + \\phi\\end{matrix}\\right]$"
      ],
      "text/plain": [
       "                 ⎡               ⎛        2⎞       ⎤\n",
       "                 ⎢  \\lambda⋅\\phi⋅⎝1 - \\phi ⎠       ⎥\n",
       "[\\tilde{\\phi}] = ⎢- ──────────────────────── + \\phi⎥\n",
       "                 ⎣             2                   ⎦"
      ]
     },
     "execution_count": 15,
     "metadata": {},
     "output_type": "execute_result"
    }
   ],
   "source": [
    "# EQs = Eq(M(given), M(unknown) - DT*M(Q)/2)  # it is assumed that DT=1 in LBM\n",
    "EQs = Eq(M(given), M(unknown) - M(Q)/2)  \n",
    "EQs"
   ]
  },
  {
   "cell_type": "code",
   "execution_count": 16,
   "metadata": {
    "pycharm": {
     "is_executing": true
    }
   },
   "outputs": [
    {
     "data": {
      "text/latex": [
       "$\\displaystyle \\left[\\begin{matrix}- \\frac{\\left(- \\frac{1}{2} - \\frac{\\sqrt{3} i}{2}\\right) \\sqrt[3]{\\frac{\\sqrt{\\frac{2916 \\tilde{\\phi}^{2}}{\\lambda^{2}} + \\frac{108 \\left(2 - \\lambda\\right)^{3}}{\\lambda^{3}}}}{2} - \\frac{27 \\tilde{\\phi}}{\\lambda}}}{3} + \\frac{2 - \\lambda}{\\lambda \\left(- \\frac{1}{2} - \\frac{\\sqrt{3} i}{2}\\right) \\sqrt[3]{\\frac{\\sqrt{\\frac{2916 \\tilde{\\phi}^{2}}{\\lambda^{2}} + \\frac{108 \\left(2 - \\lambda\\right)^{3}}{\\lambda^{3}}}}{2} - \\frac{27 \\tilde{\\phi}}{\\lambda}}}\\\\- \\frac{\\left(- \\frac{1}{2} + \\frac{\\sqrt{3} i}{2}\\right) \\sqrt[3]{\\frac{\\sqrt{\\frac{2916 \\tilde{\\phi}^{2}}{\\lambda^{2}} + \\frac{108 \\left(2 - \\lambda\\right)^{3}}{\\lambda^{3}}}}{2} - \\frac{27 \\tilde{\\phi}}{\\lambda}}}{3} + \\frac{2 - \\lambda}{\\lambda \\left(- \\frac{1}{2} + \\frac{\\sqrt{3} i}{2}\\right) \\sqrt[3]{\\frac{\\sqrt{\\frac{2916 \\tilde{\\phi}^{2}}{\\lambda^{2}} + \\frac{108 \\left(2 - \\lambda\\right)^{3}}{\\lambda^{3}}}}{2} - \\frac{27 \\tilde{\\phi}}{\\lambda}}}\\\\- \\frac{\\sqrt[3]{\\frac{\\sqrt{\\frac{2916 \\tilde{\\phi}^{2}}{\\lambda^{2}} + \\frac{108 \\left(2 - \\lambda\\right)^{3}}{\\lambda^{3}}}}{2} - \\frac{27 \\tilde{\\phi}}{\\lambda}}}{3} + \\frac{2 - \\lambda}{\\lambda \\sqrt[3]{\\frac{\\sqrt{\\frac{2916 \\tilde{\\phi}^{2}}{\\lambda^{2}} + \\frac{108 \\left(2 - \\lambda\\right)^{3}}{\\lambda^{3}}}}{2} - \\frac{27 \\tilde{\\phi}}{\\lambda}}}\\end{matrix}\\right]$"
      ],
      "text/plain": [
       "⎡                        _____________________________________________________\n",
       "⎢                       ╱       _________________________________________     \n",
       "⎢                      ╱       ╱                  2                    3      \n",
       "⎢                     ╱       ╱  2916⋅\\tilde{\\phi}    108⋅(2 - \\lambda)       \n",
       "⎢                    ╱       ╱   ────────────────── + ──────────────────      \n",
       "⎢                   ╱       ╱                2                    3           \n",
       "⎢  ⎛  1   √3⋅ⅈ⎞    ╱      ╲╱          \\lambda              \\lambda          27\n",
       "⎢  ⎜- ─ - ────⎟⋅3 ╱       ─────────────────────────────────────────────── - ──\n",
       "⎢  ⎝  2    2  ⎠ ╲╱                               2                            \n",
       "⎢- ───────────────────────────────────────────────────────────────────────────\n",
       "⎢                                              3                              \n",
       "⎢                                                                             \n",
       "⎢                                                                             \n",
       "⎢                                                                             \n",
       "⎢                                                                             \n",
       "⎢                                                                             \n",
       "⎢                                                                             \n",
       "⎢                                                                             \n",
       "⎢                                                                             \n",
       "⎢                                                                             \n",
       "⎢                        _____________________________________________________\n",
       "⎢                       ╱       _________________________________________     \n",
       "⎢                      ╱       ╱                  2                    3      \n",
       "⎢                     ╱       ╱  2916⋅\\tilde{\\phi}    108⋅(2 - \\lambda)       \n",
       "⎢                    ╱       ╱   ────────────────── + ──────────────────      \n",
       "⎢                   ╱       ╱                2                    3           \n",
       "⎢  ⎛  1   √3⋅ⅈ⎞    ╱      ╲╱          \\lambda              \\lambda          27\n",
       "⎢  ⎜- ─ + ────⎟⋅3 ╱       ─────────────────────────────────────────────── - ──\n",
       "⎢  ⎝  2    2  ⎠ ╲╱                               2                            \n",
       "⎢- ───────────────────────────────────────────────────────────────────────────\n",
       "⎢                                              3                              \n",
       "⎢                                                                             \n",
       "⎢                                                                             \n",
       "⎢                                                                             \n",
       "⎢                                                                             \n",
       "⎢                                                                             \n",
       "⎢                                                                             \n",
       "⎢                                                                             \n",
       "⎢                                                                             \n",
       "⎢                                                                             \n",
       "⎢                        _____________________________________________________\n",
       "⎢                       ╱       _________________________________________     \n",
       "⎢                      ╱       ╱                  2                    3      \n",
       "⎢                     ╱       ╱  2916⋅\\tilde{\\phi}    108⋅(2 - \\lambda)       \n",
       "⎢                    ╱       ╱   ────────────────── + ──────────────────      \n",
       "⎢                   ╱       ╱                2                    3           \n",
       "⎢                  ╱      ╲╱          \\lambda              \\lambda          27\n",
       "⎢               3 ╱       ─────────────────────────────────────────────── - ──\n",
       "⎢               ╲╱                               2                            \n",
       "⎢             - ──────────────────────────────────────────────────────────────\n",
       "⎢                                                    3                        \n",
       "⎢                                                                             \n",
       "⎢                                                                             \n",
       "⎢                                                                             \n",
       "⎢                                                                             \n",
       "⎢                                                                             \n",
       "⎢                                                                             \n",
       "⎢                                                                             \n",
       "⎣                                                                             \n",
       "\n",
       "______________                                                                \n",
       "                                                                              \n",
       "                                                                              \n",
       "                                                                              \n",
       "                                                                              \n",
       "                                                                              \n",
       "⋅\\tilde{\\phi}                                                                 \n",
       "─────────────                                                                 \n",
       "  \\lambda                                                   2 - \\lambda       \n",
       "────────────── + ─────────────────────────────────────────────────────────────\n",
       "                                               _______________________________\n",
       "                                              ╱       ________________________\n",
       "                                             ╱       ╱                  2     \n",
       "                                            ╱       ╱  2916⋅\\tilde{\\phi}    10\n",
       "                                           ╱       ╱   ────────────────── + ──\n",
       "                                          ╱       ╱                2          \n",
       "                         ⎛  1   √3⋅ⅈ⎞    ╱      ╲╱          \\lambda           \n",
       "                 \\lambda⋅⎜- ─ - ────⎟⋅3 ╱       ──────────────────────────────\n",
       "                         ⎝  2    2  ⎠ ╲╱                               2      \n",
       "                                                                              \n",
       "______________                                                                \n",
       "                                                                              \n",
       "                                                                              \n",
       "                                                                              \n",
       "                                                                              \n",
       "                                                                              \n",
       "⋅\\tilde{\\phi}                                                                 \n",
       "─────────────                                                                 \n",
       "  \\lambda                                                   2 - \\lambda       \n",
       "────────────── + ─────────────────────────────────────────────────────────────\n",
       "                                               _______________________________\n",
       "                                              ╱       ________________________\n",
       "                                             ╱       ╱                  2     \n",
       "                                            ╱       ╱  2916⋅\\tilde{\\phi}    10\n",
       "                                           ╱       ╱   ────────────────── + ──\n",
       "                                          ╱       ╱                2          \n",
       "                         ⎛  1   √3⋅ⅈ⎞    ╱      ╲╱          \\lambda           \n",
       "                 \\lambda⋅⎜- ─ + ────⎟⋅3 ╱       ──────────────────────────────\n",
       "                         ⎝  2    2  ⎠ ╲╱                               2      \n",
       "                                                                              \n",
       "______________                                                                \n",
       "                                                                              \n",
       "                                                                              \n",
       "                                                                              \n",
       "                                                                              \n",
       "                                                                              \n",
       "⋅\\tilde{\\phi}                                                                 \n",
       "─────────────                                                                 \n",
       "  \\lambda                                            2 - \\lambda              \n",
       "────────────── + ─────────────────────────────────────────────────────────────\n",
       "                                  ____________________________________________\n",
       "                                 ╱       _____________________________________\n",
       "                                ╱       ╱                  2                  \n",
       "                               ╱       ╱  2916⋅\\tilde{\\phi}    108⋅(2 - \\lambd\n",
       "                              ╱       ╱   ────────────────── + ───────────────\n",
       "                             ╱       ╱                2                    3  \n",
       "                            ╱      ╲╱          \\lambda              \\lambda   \n",
       "                 \\lambda⋅3 ╱       ───────────────────────────────────────────\n",
       "                         ╲╱                               2                   \n",
       "\n",
       "                                    ⎤\n",
       "                                    ⎥\n",
       "                                    ⎥\n",
       "                                    ⎥\n",
       "                                    ⎥\n",
       "                                    ⎥\n",
       "                                    ⎥\n",
       "                                    ⎥\n",
       "                                    ⎥\n",
       "────────────────────────────────────⎥\n",
       "____________________________________⎥\n",
       "_________________                   ⎥\n",
       "               3                    ⎥\n",
       "8⋅(2 - \\lambda)                     ⎥\n",
       "────────────────                    ⎥\n",
       "          3                         ⎥\n",
       "   \\lambda          27⋅\\tilde{\\phi} ⎥\n",
       "───────────────── - ─────────────── ⎥\n",
       "                        \\lambda     ⎥\n",
       "                                    ⎥\n",
       "                                    ⎥\n",
       "                                    ⎥\n",
       "                                    ⎥\n",
       "                                    ⎥\n",
       "                                    ⎥\n",
       "                                    ⎥\n",
       "                                    ⎥\n",
       "                                    ⎥\n",
       "                                    ⎥\n",
       "────────────────────────────────────⎥\n",
       "____________________________________⎥\n",
       "_________________                   ⎥\n",
       "               3                    ⎥\n",
       "8⋅(2 - \\lambda)                     ⎥\n",
       "────────────────                    ⎥\n",
       "          3                         ⎥\n",
       "   \\lambda          27⋅\\tilde{\\phi} ⎥\n",
       "───────────────── - ─────────────── ⎥\n",
       "                        \\lambda     ⎥\n",
       "                                    ⎥\n",
       "                                    ⎥\n",
       "                                    ⎥\n",
       "                                    ⎥\n",
       "                                    ⎥\n",
       "                                    ⎥\n",
       "                                    ⎥\n",
       "                                    ⎥\n",
       "                                    ⎥\n",
       "                                    ⎥\n",
       "───────────────────────             ⎥\n",
       "_______________________             ⎥\n",
       "____                                ⎥\n",
       "  3                                 ⎥\n",
       "a)                                  ⎥\n",
       "───                                 ⎥\n",
       "                                    ⎥\n",
       "       27⋅\\tilde{\\phi}              ⎥\n",
       "──── - ───────────────              ⎥\n",
       "           \\lambda                  ⎦"
      ]
     },
     "execution_count": 16,
     "metadata": {},
     "output_type": "execute_result"
    }
   ],
   "source": [
    "solutions = solve(EQs, unknown, dict=True)\n",
    "symbolic_solutions_as_matrix = Matrix([list(s.values()) for s in solutions])\n",
    "symbolic_solutions_as_matrix"
   ]
  },
  {
   "cell_type": "code",
   "execution_count": null,
   "outputs": [],
   "source": [
    "symbolic_solutions_as_matrix[0]"
   ],
   "metadata": {
    "collapsed": false,
    "pycharm": {
     "name": "#%%\n"
    }
   }
  },
  {
   "cell_type": "code",
   "execution_count": 19,
   "metadata": {},
   "outputs": [
    {
     "data": {
      "text/latex": [
       "$\\displaystyle - \\frac{\\left(- \\frac{1}{2} - \\frac{\\sqrt{3} i}{2}\\right) \\sqrt[3]{\\frac{\\sqrt{\\frac{2916 \\tilde{\\phi}^{2}}{\\lambda^{2}} + \\frac{108 \\left(2 - \\lambda\\right)^{3}}{\\lambda^{3}}}}{2} - \\frac{27 \\tilde{\\phi}}{\\lambda}}}{3} + \\frac{2 - \\lambda}{\\lambda \\left(- \\frac{1}{2} - \\frac{\\sqrt{3} i}{2}\\right) \\sqrt[3]{\\frac{\\sqrt{\\frac{2916 \\tilde{\\phi}^{2}}{\\lambda^{2}} + \\frac{108 \\left(2 - \\lambda\\right)^{3}}{\\lambda^{3}}}}{2} - \\frac{27 \\tilde{\\phi}}{\\lambda}}}$"
      ],
      "text/plain": [
       "                        ______________________________________________________\n",
       "                       ╱       _________________________________________      \n",
       "                      ╱       ╱                  2                    3       \n",
       "                     ╱       ╱  2916⋅\\tilde{\\phi}    108⋅(2 - \\lambda)        \n",
       "                    ╱       ╱   ────────────────── + ──────────────────       \n",
       "                   ╱       ╱                2                    3            \n",
       "  ⎛  1   √3⋅ⅈ⎞    ╱      ╲╱          \\lambda              \\lambda          27⋅\n",
       "  ⎜- ─ - ────⎟⋅3 ╱       ─────────────────────────────────────────────── - ───\n",
       "  ⎝  2    2  ⎠ ╲╱                               2                             \n",
       "- ────────────────────────────────────────────────────────────────────────────\n",
       "                                              3                               \n",
       "                                                                              \n",
       "                                                                              \n",
       "                                                                              \n",
       "                                                                              \n",
       "                                                                              \n",
       "                                                                              \n",
       "                                                                              \n",
       "                                                                              \n",
       "\n",
       "_____________                                                                 \n",
       "                                                                              \n",
       "                                                                              \n",
       "                                                                              \n",
       "                                                                              \n",
       "                                                                              \n",
       "\\tilde{\\phi}                                                                  \n",
       "────────────                                                                  \n",
       " \\lambda                                                   2 - \\lambda        \n",
       "───────────── + ──────────────────────────────────────────────────────────────\n",
       "                                              ________________________________\n",
       "                                             ╱       _________________________\n",
       "                                            ╱       ╱                  2      \n",
       "                                           ╱       ╱  2916⋅\\tilde{\\phi}    108\n",
       "                                          ╱       ╱   ────────────────── + ───\n",
       "                                         ╱       ╱                2           \n",
       "                        ⎛  1   √3⋅ⅈ⎞    ╱      ╲╱          \\lambda            \n",
       "                \\lambda⋅⎜- ─ - ────⎟⋅3 ╱       ───────────────────────────────\n",
       "                        ⎝  2    2  ⎠ ╲╱                               2       \n",
       "\n",
       "                                   \n",
       "                                   \n",
       "                                   \n",
       "                                   \n",
       "                                   \n",
       "                                   \n",
       "                                   \n",
       "                                   \n",
       "                                   \n",
       "───────────────────────────────────\n",
       "___________________________________\n",
       "________________                   \n",
       "              3                    \n",
       "⋅(2 - \\lambda)                     \n",
       "───────────────                    \n",
       "         3                         \n",
       "  \\lambda          27⋅\\tilde{\\phi} \n",
       "──────────────── - ─────────────── \n",
       "                       \\lambda     "
      ]
     },
     "execution_count": 19,
     "metadata": {},
     "output_type": "execute_result"
    }
   ],
   "source": [
    "inputs = [tilde_phi, Lam, DT]\n",
    "# dummies = symbols(\"tmp[0:%d]\"%len(inputs))\n",
    "dummies = symbols([\"tilde_phi\", \"Lam\", \"DT\"])\n",
    "dummies"
   ]
  },
  {
   "cell_type": "code",
   "execution_count": 6,
   "metadata": {
    "pycharm": {
     "is_executing": true
    }
   },
   "outputs": [
    {
     "data": {
      "text/latex": [
       "$\\displaystyle \\left[ tilde_{\\phi}, \\  Lam, \\  DT\\right]$"
      ],
      "text/plain": [
       "[tildeᵩ, Lam, DT]"
      ]
     },
     "execution_count": 6,
     "metadata": {},
     "output_type": "execute_result"
    }
   ],
   "source": [
    "inputs = [tilde_phi, Lam, DT]\n",
    "# dummies = symbols(\"tmp[0:%d]\"%len(inputs))\n",
    "dummies = symbols([\"tilde_phi\", \"Lam\", \"DT\"])\n",
    "dummies"
   ]
  },
  {
   "cell_type": "code",
   "execution_count": 7,
   "metadata": {},
   "outputs": [
    {
     "data": {
      "text/plain": [
       "array([[-0.75637266+2.17170413j],\n",
       "       [-0.75637266-2.17170413j],\n",
       "       [ 1.51274533+0.j        ]])"
      ]
     },
     "execution_count": 7,
     "metadata": {},
     "output_type": "execute_result"
    }
   ],
   "source": [
    "calc_numerical_solution =  lambdify(dummies, symbolic_solutions_as_matrix.subs(dict(zip(inputs, dummies))),modules=\"numpy\") \n",
    "\n",
    "def extract_real_solution(*x):\n",
    "    tmp = calc_numerical_solution(*x)\n",
    "    for i in range(3):\n",
    "        if (np.imag(tmp[i]) == 0): return np.real(tmp[i])\n",
    "    raise Exeption(\"Something wrong\")\n",
    "    \n",
    "calc_numerical_solution(2,1,0.5) # tilde_phi, Lam, DT"
   ]
  },
  {
   "cell_type": "code",
   "execution_count": 8,
   "metadata": {},
   "outputs": [
    {
     "data": {
      "text/plain": [
       "array([1.51274533])"
      ]
     },
     "execution_count": 8,
     "metadata": {},
     "output_type": "execute_result"
    }
   ],
   "source": [
    "extract_real_solution(2,1,0.5)"
   ]
  },
  {
   "cell_type": "code",
   "execution_count": 9,
   "metadata": {
    "pycharm": {
     "is_executing": true,
     "name": "#%%\n"
    }
   },
   "outputs": [
    {
     "data": {
      "text/plain": [
       "[<matplotlib.lines.Line2D at 0x7f8b88ddefa0>]"
      ]
     },
     "execution_count": 9,
     "metadata": {},
     "output_type": "execute_result"
    },
    {
     "data": {
      "image/png": "[encoded data removed]",
      "text/plain": [
       "<Figure size 432x288 with 1 Axes>"
      ]
     },
     "metadata": {
      "needs_background": "light"
     },
     "output_type": "display_data"
    }
   ],
   "source": [
    "x = np.linspace(-2,2,100)\n",
    "plt.plot(x, np.vectorize(lambda t_: extract_real_solution(t_, 1, 1))(x))"
   ]
  },
  {
   "cell_type": "code",
   "execution_count": 10,
   "metadata": {
    "pycharm": {
     "is_executing": true
    }
   },
   "outputs": [],
   "source": [
    "def simpler(tt, level = 0):\n",
    "    if level == 0:\n",
    "        testme = tt.simplify()\n",
    "        ops0 = testme.count_ops()\n",
    "        tested = simpler(testme, 1)\n",
    "        ops1= tested.count_ops()\n",
    "        if ops1 < ops0:\n",
    "            return tested\n",
    "        else:\n",
    "            return testme\n",
    "    else:\n",
    "        if tt.is_Add:\n",
    "            coeffs = dict()\n",
    "\n",
    "            for pp in tt.args:\n",
    "                for qq in pp.args:\n",
    "                    if qq in coeffs.keys():\n",
    "                        coeffs[qq] = coeffs[qq] + 1 \n",
    "                    else:\n",
    "                        coeffs[qq] = 1\n",
    "\n",
    "            if len(coeffs) > 2:\n",
    "                for pp in np.argsort(coeffs.values())[::-1]:\n",
    "              #  print tt\n",
    "                    tt = tt.collect( list(coeffs.keys())[pp] )\n",
    "            #    print tt\n",
    "                tmp = list()\n",
    "                for pp in tt.args:\n",
    "                    tmp.append(simpler(pp, 1))\n",
    "                return Add(*tmp)\n",
    "            else:\n",
    "                return tt\n",
    "        elif len(tt.args) > 1:  \n",
    "            tmp = list()\n",
    "            for pp in tt.args:\n",
    "                tmp.append(simpler(pp.expand(), 1))\n",
    "            return tt.func(*tmp)\n",
    "        else:\n",
    "            return tt \n",
    "\n",
    "def block_simpler(symbols, exprs, tprefix = 'const real_t '):\n",
    "    opers0 = 0\n",
    "    for ee in exprs:\n",
    "        opers0 = opers0 +  ee.count_ops() + 1\n",
    "    \n",
    "    print (\"// Opers0 = \", opers0   )\n",
    "    \n",
    "    temp = cse(exprs,optimizations='basic')\n",
    "    opers = 0\n",
    "    for nn,ee in temp[0]:\n",
    "        ee = simpler(ee)\n",
    "        opers = opers +  ee.count_ops() + 1\n",
    "        print (tprefix, ccode(nn),'=',ccode(ee), '; //', ee.count_ops())\n",
    "\n",
    "    for nn,ee in zip( symbols, temp[1] ):\n",
    "        ee = simpler(ee)\n",
    "        opers = opers + ee.count_ops() + 1\n",
    "        print (ccode(nn),'=',ccode(ee), '; //', ee.count_ops())\n",
    "\n",
    "    print (\"// Opers = \", opers )\n",
    "    \n",
    "\n",
    " "
   ]
  },
  {
   "cell_type": "code",
   "execution_count": 31,
   "metadata": {
    "pycharm": {
     "is_executing": true
    }
   },
   "outputs": [
    {
     "name": "stdout",
     "output_type": "stream",
     "text": [
      "// tmp[0] = \\tilde{\\phi}\n",
      "// tmp[1] = \\lambda\n",
      "// tmp[2] = \\delta{t}\n",
      "// Opers0 =  56\n",
      "const real_t  x0 = cbrt(3) ; // 2\n",
      "const real_t  x1 = 1/(tmp[1]*tmp[2]) ; // 2\n",
      "const real_t  x2 = tmp[1]*tmp[2] ; // 1\n",
      "const real_t  x3 = cbrt(-9*tmp[0]*x1 + sqrt(3)*sqrt((27*pow(tmp[0], 2) + x1*pow(2 - x2, 3))/(pow(tmp[1], 2)*pow(tmp[2], 2)))) ; // 20\n",
      "\\phi = -1.0/3.0*x0*(x0*x1*(x2 - 2) + pow(x3, 2))/x3 ; // 9\n",
      "// Opers =  39\n"
     ]
    }
   ],
   "source": [
    "for inp, dum in zip(inputs, dummies):\n",
    "    print(\"// %s = %s\"%(dum, inp))\n",
    "    \n",
    "block_simpler([phi], [symbolic_solutions_as_matrix.subs(dict(zip(inputs, dummies)))[2]])"
   ]
  },
  {
   "cell_type": "code",
   "execution_count": 12,
   "metadata": {},
   "outputs": [
    {
     "data": {
      "text/latex": [
       "$\\displaystyle \\left[ \\lambda \\phi \\left(1 - \\phi^{2}\\right)\\right]$"
      ],
      "text/plain": [
       "⎡             ⎛        2⎞⎤\n",
       "⎣\\lambda⋅\\phi⋅⎝1 - \\phi ⎠⎦"
      ]
     },
     "execution_count": 12,
     "metadata": {},
     "output_type": "execute_result"
    }
   ],
   "source": [
    "Q "
   ]
  },
  {
   "cell_type": "code",
   "execution_count": null,
   "metadata": {
    "pycharm": {
     "name": "#%%\n"
    }
   },
   "outputs": [],
   "source": [
    "inputs = [tilde_phi, Lam, DT]\n",
    "dummies = symbols(\"tmp[0:%d]\"%len(inputs))\n",
    "# dummies = symbols([\"tilde_phi\", \"Lam\", \"DT\"])\n",
    "# inputs.append(phi)\n",
    "# dummies.append(symbols(\"phiii\"))\n",
    "Q[0].subs(dict(zip(inputs, dummies)))\n"
   ]
  },
  {
   "cell_type": "code",
   "execution_count": null,
   "metadata": {
    "pycharm": {
     "name": "#%%\n"
    }
   },
   "outputs": [],
   "source": [
    "dummies, inputs"
   ]
  },
  {
   "cell_type": "code",
   "execution_count": null,
   "metadata": {
    "pycharm": {
     "name": "#%%\n"
    }
   },
   "outputs": [],
   "source": [
    "Qsymbol = symbols('Q', real=True)\n",
    "print(f'const real_t {Qsymbol};')\n",
    "block_simpler([Qsymbol], [Q[0].subs(dict(zip(inputs, dummies)))])"
   ]
  },
  {
   "cell_type": "code",
   "execution_count": null,
   "metadata": {
    "pycharm": {
     "name": "#%%\n"
    }
   },
   "outputs": [],
   "source": []
  },
  {
   "cell_type": "code",
   "execution_count": 19,
   "metadata": {},
   "outputs": [
    {
     "data": {
      "text/latex": [
       "$\\displaystyle \\phi tmp[1] \\left(1 - \\phi^{2}\\right)$"
      ],
      "text/plain": [
       "            ⎛        2⎞\n",
       "\\phi⋅tmp[1]⋅⎝1 - \\phi ⎠"
      ]
     },
     "execution_count": 19,
     "metadata": {},
     "output_type": "execute_result"
    }
   ],
   "source": []
  },
  {
   "cell_type": "code",
   "execution_count": 14,
   "metadata": {},
   "outputs": [
    {
     "data": {
      "text/latex": [
       "$\\displaystyle \\left( \\left[ tilde_{\\phi}, \\  Lam, \\  DT, \\  phiii\\right], \\  \\left[ \\tilde{\\phi}, \\  \\lambda, \\  \\delta{t}, \\  \\phi\\right]\\right)$"
      ],
      "text/plain": [
       "([tildeᵩ, Lam, DT, phiii], [\\tilde{\\phi}, \\lambda, \\delta{t}, \\phi])"
      ]
     },
     "execution_count": 14,
     "metadata": {},
     "output_type": "execute_result"
    }
   ],
   "source": [
    "dummies, inputs"
   ]
  },
  {
   "cell_type": "code",
   "execution_count": 30,
   "metadata": {},
   "outputs": [
    {
     "name": "stdout",
     "output_type": "stream",
     "text": [
      "const real_t Q;\n",
      "// Opers0 =  5\n",
      "Q = \\phi*tmp[1]*(1 - pow(\\phi, 2)) ; // 4\n",
      "// Opers =  5\n"
     ]
    }
   ],
   "source": [
    "Qsymbol = symbols('Q', real=True)\n",
    "print(f'const real_t {Qsymbol};')\n",
    "block_simpler([Qsymbol], [Q[0].subs(dict(zip(inputs, dummies)))])"
   ]
  },
  {
   "cell_type": "code",
   "execution_count": null,
   "metadata": {},
   "outputs": [],
   "source": []
  }
 ],
 "metadata": {
  "kernelspec": {
   "display_name": "Python 3",
   "language": "python",
   "name": "python3"
  },
  "language_info": {
   "codemirror_mode": {
    "name": "ipython",
    "version": 3
   },
   "file_extension": ".py",
   "mimetype": "text/x-python",
   "name": "python",
   "nbconvert_exporter": "python",
   "pygments_lexer": "ipython3",
   "version": "3.8.2"
  }
 },
 "nbformat": 4,
 "nbformat_minor": 4
}