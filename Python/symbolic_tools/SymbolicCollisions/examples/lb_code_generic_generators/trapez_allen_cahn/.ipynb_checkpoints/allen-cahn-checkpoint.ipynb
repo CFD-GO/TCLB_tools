{
 "cells": [
  {
   "cell_type": "code",
   "execution_count": null,
   "metadata": {
    "pycharm": {
     "is_executing": true
    }
   },
   "outputs": [],
   "source": [
    "from sympy import *\n",
    "import numpy as np\n",
    "import matplotlib.pyplot as plt\n",
    "%matplotlib inline\n",
    "init_printing(use_latex='mathjax')"
   ]
  },
  {
   "cell_type": "code",
   "execution_count": null,
   "metadata": {
    "pycharm": {
     "is_executing": true
    }
   },
   "outputs": [],
   "source": [
    "phi = symbols('\\phi', real=True) # nieprzesuniete\n",
    "Lam = symbols('\\lambda', real=True, positive=True, nonzero=True)\n",
    "DT = symbols('\\delta{t}', real=True, positive=True, nonzero=True)\n",
    "\n",
    "tilde_phi= symbols('\\\\tilde{\\phi}', real=True)\n",
    "tilde_phi, DT"
   ]
  },
  {
   "cell_type": "code",
   "execution_count": 31,
   "metadata": {
    "pycharm": {
     "is_executing": true
    }
   },
   "outputs": [],
   "source": [
    "given = [tilde_phi]\n",
    "\n",
    "unknown = [phi]\n",
    "\n",
    "Q = [Lam*phi*(1-phi**2)]\n",
    "\n",
    "M = Matrix"
   ]
  },
  {
   "cell_type": "code",
   "execution_count": 32,
   "metadata": {
    "pycharm": {
     "is_executing": true
    }
   },
   "outputs": [
    {
     "data": {
      "text/latex": [
       "$\\displaystyle \\left[\\begin{matrix}\\tilde{\\phi}\\end{matrix}\\right] = \\left[\\begin{matrix}- \\frac{\\delta{t} \\lambda \\phi \\left(1 - \\phi^{2}\\right)}{2} + \\phi\\end{matrix}\\right]$"
      ],
      "text/plain": [
       "                 ⎡                         ⎛        2⎞       ⎤\n",
       "                 ⎢  \\delta{t}⋅\\lambda⋅\\phi⋅⎝1 - \\phi ⎠       ⎥\n",
       "[\\tilde{\\phi}] = ⎢- ────────────────────────────────── + \\phi⎥\n",
       "                 ⎣                  2                        ⎦"
      ]
     },
     "execution_count": 32,
     "metadata": {},
     "output_type": "execute_result"
    }
   ],
   "source": [
    "EQs = Eq(M(given), M(unknown) - DT*M(Q)/2)  \n",
    "EQs"
   ]
  },
  {
   "cell_type": "code",
   "execution_count": 48,
   "metadata": {
    "pycharm": {
     "is_executing": true
    }
   },
   "outputs": [
    {
     "data": {
      "text/latex": [
       "$\\displaystyle \\left[\\begin{matrix}- \\frac{\\left(- \\frac{1}{2} - \\frac{\\sqrt{3} i}{2}\\right) \\sqrt[3]{\\frac{\\sqrt{\\frac{2916 \\tilde{\\phi}^{2}}{\\delta{t}^{2} \\lambda^{2}} + \\frac{108 \\left(- \\delta{t} \\lambda + 2\\right)^{3}}{\\delta{t}^{3} \\lambda^{3}}}}{2} - \\frac{27 \\tilde{\\phi}}{\\delta{t} \\lambda}}}{3} + \\frac{- \\delta{t} \\lambda + 2}{\\delta{t} \\lambda \\left(- \\frac{1}{2} - \\frac{\\sqrt{3} i}{2}\\right) \\sqrt[3]{\\frac{\\sqrt{\\frac{2916 \\tilde{\\phi}^{2}}{\\delta{t}^{2} \\lambda^{2}} + \\frac{108 \\left(- \\delta{t} \\lambda + 2\\right)^{3}}{\\delta{t}^{3} \\lambda^{3}}}}{2} - \\frac{27 \\tilde{\\phi}}{\\delta{t} \\lambda}}}\\\\- \\frac{\\left(- \\frac{1}{2} + \\frac{\\sqrt{3} i}{2}\\right) \\sqrt[3]{\\frac{\\sqrt{\\frac{2916 \\tilde{\\phi}^{2}}{\\delta{t}^{2} \\lambda^{2}} + \\frac{108 \\left(- \\delta{t} \\lambda + 2\\right)^{3}}{\\delta{t}^{3} \\lambda^{3}}}}{2} - \\frac{27 \\tilde{\\phi}}{\\delta{t} \\lambda}}}{3} + \\frac{- \\delta{t} \\lambda + 2}{\\delta{t} \\lambda \\left(- \\frac{1}{2} + \\frac{\\sqrt{3} i}{2}\\right) \\sqrt[3]{\\frac{\\sqrt{\\frac{2916 \\tilde{\\phi}^{2}}{\\delta{t}^{2} \\lambda^{2}} + \\frac{108 \\left(- \\delta{t} \\lambda + 2\\right)^{3}}{\\delta{t}^{3} \\lambda^{3}}}}{2} - \\frac{27 \\tilde{\\phi}}{\\delta{t} \\lambda}}}\\\\- \\frac{\\sqrt[3]{\\frac{\\sqrt{\\frac{2916 \\tilde{\\phi}^{2}}{\\delta{t}^{2} \\lambda^{2}} + \\frac{108 \\left(- \\delta{t} \\lambda + 2\\right)^{3}}{\\delta{t}^{3} \\lambda^{3}}}}{2} - \\frac{27 \\tilde{\\phi}}{\\delta{t} \\lambda}}}{3} + \\frac{- \\delta{t} \\lambda + 2}{\\delta{t} \\lambda \\sqrt[3]{\\frac{\\sqrt{\\frac{2916 \\tilde{\\phi}^{2}}{\\delta{t}^{2} \\lambda^{2}} + \\frac{108 \\left(- \\delta{t} \\lambda + 2\\right)^{3}}{\\delta{t}^{3} \\lambda^{3}}}}{2} - \\frac{27 \\tilde{\\phi}}{\\delta{t} \\lambda}}}\\end{matrix}\\right]$"
      ],
      "text/plain": [
       "⎡                        _____________________________________________________\n",
       "⎢                       ╱       ______________________________________________\n",
       "⎢                      ╱       ╱                   2                          \n",
       "⎢                     ╱       ╱   2916⋅\\tilde{\\phi}    108⋅(-\\delta{t}⋅\\lambda\n",
       "⎢                    ╱       ╱   ─────────────────── + ───────────────────────\n",
       "⎢                   ╱       ╱             2        2                 3        \n",
       "⎢  ⎛  1   √3⋅ⅈ⎞    ╱      ╲╱     \\delta{t} ⋅\\lambda         \\delta{t} ⋅\\lambda\n",
       "⎢  ⎜- ─ - ────⎟⋅3 ╱       ────────────────────────────────────────────────────\n",
       "⎢  ⎝  2    2  ⎠ ╲╱                                     2                      \n",
       "⎢- ───────────────────────────────────────────────────────────────────────────\n",
       "⎢                                                     3                       \n",
       "⎢                                                                             \n",
       "⎢                                                                             \n",
       "⎢                                                                             \n",
       "⎢                                                                             \n",
       "⎢                                                                             \n",
       "⎢                                                                             \n",
       "⎢                                                                             \n",
       "⎢                                                                             \n",
       "⎢                                                                             \n",
       "⎢                        _____________________________________________________\n",
       "⎢                       ╱       ______________________________________________\n",
       "⎢                      ╱       ╱                   2                          \n",
       "⎢                     ╱       ╱   2916⋅\\tilde{\\phi}    108⋅(-\\delta{t}⋅\\lambda\n",
       "⎢                    ╱       ╱   ─────────────────── + ───────────────────────\n",
       "⎢                   ╱       ╱             2        2                 3        \n",
       "⎢  ⎛  1   √3⋅ⅈ⎞    ╱      ╲╱     \\delta{t} ⋅\\lambda         \\delta{t} ⋅\\lambda\n",
       "⎢  ⎜- ─ + ────⎟⋅3 ╱       ────────────────────────────────────────────────────\n",
       "⎢  ⎝  2    2  ⎠ ╲╱                                     2                      \n",
       "⎢- ───────────────────────────────────────────────────────────────────────────\n",
       "⎢                                                     3                       \n",
       "⎢                                                                             \n",
       "⎢                                                                             \n",
       "⎢                                                                             \n",
       "⎢                                                                             \n",
       "⎢                                                                             \n",
       "⎢                                                                             \n",
       "⎢                                                                             \n",
       "⎢                                                                             \n",
       "⎢                                                                             \n",
       "⎢                        _____________________________________________________\n",
       "⎢                       ╱       ______________________________________________\n",
       "⎢                      ╱       ╱                   2                          \n",
       "⎢                     ╱       ╱   2916⋅\\tilde{\\phi}    108⋅(-\\delta{t}⋅\\lambda\n",
       "⎢                    ╱       ╱   ─────────────────── + ───────────────────────\n",
       "⎢                   ╱       ╱             2        2                 3        \n",
       "⎢                  ╱      ╲╱     \\delta{t} ⋅\\lambda         \\delta{t} ⋅\\lambda\n",
       "⎢               3 ╱       ────────────────────────────────────────────────────\n",
       "⎢               ╲╱                                     2                      \n",
       "⎢             - ──────────────────────────────────────────────────────────────\n",
       "⎢                                                           3                 \n",
       "⎢                                                                             \n",
       "⎢                                                                             \n",
       "⎢                                                                             \n",
       "⎢                                                                             \n",
       "⎢                                                                             \n",
       "⎢                                                                             \n",
       "⎢                                                                             \n",
       "⎣                                                                             \n",
       "\n",
       "____________________________                                                  \n",
       "_______                                                                       \n",
       "     3                                                                        \n",
       " + 2)                                                                         \n",
       "──────                                                                        \n",
       "3                                                                             \n",
       "           27⋅\\tilde{\\phi}                                                    \n",
       "─────── - ─────────────────                                                   \n",
       "          \\delta{t}⋅\\lambda                                                   \n",
       "──────────────────────────── + ───────────────────────────────────────────────\n",
       "                                                                       _______\n",
       "                                                                      ╱       \n",
       "                                                                     ╱       ╱\n",
       "                                                                    ╱       ╱ \n",
       "                                                                   ╱       ╱  \n",
       "                                                                  ╱       ╱   \n",
       "                                                 ⎛  1   √3⋅ⅈ⎞    ╱      ╲╱    \n",
       "                               \\delta{t}⋅\\lambda⋅⎜- ─ - ────⎟⋅3 ╱       ──────\n",
       "                                                 ⎝  2    2  ⎠ ╲╱              \n",
       "                                                                              \n",
       "____________________________                                                  \n",
       "_______                                                                       \n",
       "     3                                                                        \n",
       " + 2)                                                                         \n",
       "──────                                                                        \n",
       "3                                                                             \n",
       "           27⋅\\tilde{\\phi}                                                    \n",
       "─────── - ─────────────────                                                   \n",
       "          \\delta{t}⋅\\lambda                                                   \n",
       "──────────────────────────── + ───────────────────────────────────────────────\n",
       "                                                                       _______\n",
       "                                                                      ╱       \n",
       "                                                                     ╱       ╱\n",
       "                                                                    ╱       ╱ \n",
       "                                                                   ╱       ╱  \n",
       "                                                                  ╱       ╱   \n",
       "                                                 ⎛  1   √3⋅ⅈ⎞    ╱      ╲╱    \n",
       "                               \\delta{t}⋅\\lambda⋅⎜- ─ + ────⎟⋅3 ╱       ──────\n",
       "                                                 ⎝  2    2  ⎠ ╲╱              \n",
       "                                                                              \n",
       "____________________________                                                  \n",
       "_______                                                                       \n",
       "     3                                                                        \n",
       " + 2)                                                                         \n",
       "──────                                                                        \n",
       "3                                                                             \n",
       "           27⋅\\tilde{\\phi}                                                    \n",
       "─────── - ─────────────────                                                   \n",
       "          \\delta{t}⋅\\lambda                                               -\\de\n",
       "──────────────────────────── + ───────────────────────────────────────────────\n",
       "                                                          ____________________\n",
       "                                                         ╱       _____________\n",
       "                                                        ╱       ╱             \n",
       "                                                       ╱       ╱   2916⋅\\tilde\n",
       "                                                      ╱       ╱   ────────────\n",
       "                                                     ╱       ╱             2  \n",
       "                                                    ╱      ╲╱     \\delta{t} ⋅\\\n",
       "                               \\delta{t}⋅\\lambda⋅3 ╱       ───────────────────\n",
       "                                                 ╲╱                           \n",
       "\n",
       "                                                                          ⎤\n",
       "                                                                          ⎥\n",
       "                                                                          ⎥\n",
       "                                                                          ⎥\n",
       "                                                                          ⎥\n",
       "                                                                          ⎥\n",
       "                                                                          ⎥\n",
       "                                                                          ⎥\n",
       "   -\\delta{t}⋅\\lambda + 2                                                 ⎥\n",
       "──────────────────────────────────────────────────────────────────────────⎥\n",
       "__________________________________________________________________________⎥\n",
       "_____________________________________________________                     ⎥\n",
       "                   2                               3                      ⎥\n",
       "  2916⋅\\tilde{\\phi}    108⋅(-\\delta{t}⋅\\lambda + 2)                       ⎥\n",
       " ─────────────────── + ─────────────────────────────                      ⎥\n",
       "          2        2                 3        3                           ⎥\n",
       " \\delta{t} ⋅\\lambda         \\delta{t} ⋅\\lambda           27⋅\\tilde{\\phi}  ⎥\n",
       "───────────────────────────────────────────────────── - ───────────────── ⎥\n",
       "                       2                                \\delta{t}⋅\\lambda ⎥\n",
       "                                                                          ⎥\n",
       "                                                                          ⎥\n",
       "                                                                          ⎥\n",
       "                                                                          ⎥\n",
       "                                                                          ⎥\n",
       "                                                                          ⎥\n",
       "                                                                          ⎥\n",
       "                                                                          ⎥\n",
       "                                                                          ⎥\n",
       "   -\\delta{t}⋅\\lambda + 2                                                 ⎥\n",
       "──────────────────────────────────────────────────────────────────────────⎥\n",
       "__________________________________________________________________________⎥\n",
       "_____________________________________________________                     ⎥\n",
       "                   2                               3                      ⎥\n",
       "  2916⋅\\tilde{\\phi}    108⋅(-\\delta{t}⋅\\lambda + 2)                       ⎥\n",
       " ─────────────────── + ─────────────────────────────                      ⎥\n",
       "          2        2                 3        3                           ⎥\n",
       " \\delta{t} ⋅\\lambda         \\delta{t} ⋅\\lambda           27⋅\\tilde{\\phi}  ⎥\n",
       "───────────────────────────────────────────────────── - ───────────────── ⎥\n",
       "                       2                                \\delta{t}⋅\\lambda ⎥\n",
       "                                                                          ⎥\n",
       "                                                                          ⎥\n",
       "                                                                          ⎥\n",
       "                                                                          ⎥\n",
       "                                                                          ⎥\n",
       "                                                                          ⎥\n",
       "                                                                          ⎥\n",
       "                                                                          ⎥\n",
       "                                                                          ⎥\n",
       "lta{t}⋅\\lambda + 2                                                        ⎥\n",
       "─────────────────────────────────────────────────────────────             ⎥\n",
       "_____________________________________________________________             ⎥\n",
       "________________________________________                                  ⎥\n",
       "      2                               3                                   ⎥\n",
       "{\\phi}    108⋅(-\\delta{t}⋅\\lambda + 2)                                    ⎥\n",
       "─────── + ─────────────────────────────                                   ⎥\n",
       "      2                 3        3                                        ⎥\n",
       "lambda         \\delta{t} ⋅\\lambda           27⋅\\tilde{\\phi}               ⎥\n",
       "──────────────────────────────────────── - ─────────────────              ⎥\n",
       "          2                                \\delta{t}⋅\\lambda              ⎦"
      ]
     },
     "execution_count": 48,
     "metadata": {},
     "output_type": "execute_result"
    }
   ],
   "source": [
    "tmp = list()\n",
    "solutions = solve(EQs, unknown, dict=True)\n",
    "S_fromSs = Matrix([list(s.values()) for s in solutions])\n",
    "S_fromSs"
   ]
  },
  {
   "cell_type": "code",
   "execution_count": null,
   "metadata": {
    "pycharm": {
     "is_executing": true
    }
   },
   "outputs": [],
   "source": [
    "inputs = [tilde_phi, Lam ,DT]\n",
    "dummies = symbols(\"tmp[0:%d]\"%len(inputs))\n",
    "\n",
    "S_fromSs_f_ =  lambdify(dummies, S_fromSs.subs(dict(zip(inputs, dummies))),modules=\"numpy\") \n",
    "\n",
    "\n",
    "def S_fromSs_f(*x):\n",
    "    tmp = S_fromSs_f_(*x)\n",
    "    for i in range(3):\n",
    "        if (np.imag(tmp[i]) == 0): return np.real(tmp[i])\n",
    "    raise Exeption(\"Something wrong\")\n",
    "    \n",
    "dummies"
   ]
  },
  {
   "cell_type": "code",
   "execution_count": null,
   "metadata": {
    "pycharm": {
     "is_executing": true
    }
   },
   "outputs": [],
   "source": [
    "S_fromSs_f_(2,1,0.5)"
   ]
  },
  {
   "cell_type": "code",
   "execution_count": null,
   "metadata": {
    "pycharm": {
     "is_executing": true,
     "name": "#%%\n"
    }
   },
   "outputs": [],
   "source": [
    "x = np.linspace(-2,2,200)\n",
    "plt.plot(x, np.vectorize(lambda t_: S_fromSs_f(t_, 1, 1))(x))"
   ]
  },
  {
   "cell_type": "code",
   "execution_count": null,
   "metadata": {
    "pycharm": {
     "is_executing": true
    }
   },
   "outputs": [],
   "source": [
    "def simpler(tt, level = 0):\n",
    "    if level == 0:\n",
    "        testme = tt.simplify()\n",
    "        ops0 = testme.count_ops()\n",
    "        tested = simpler(testme, 1)\n",
    "        ops1= tested.count_ops()\n",
    "        if ops1 < ops0:\n",
    "            return tested\n",
    "        else:\n",
    "            return testme\n",
    "    else:\n",
    "        if tt.is_Add:\n",
    "            coeffs = dict()\n",
    "\n",
    "            for pp in tt.args:\n",
    "                for qq in pp.args:\n",
    "                    if qq in coeffs.keys():\n",
    "                        coeffs[qq] = coeffs[qq] + 1 \n",
    "                    else:\n",
    "                        coeffs[qq] = 1\n",
    "\n",
    "            if len(coeffs) > 2:\n",
    "                for pp in np.argsort(coeffs.values())[::-1]:\n",
    "              #  print tt\n",
    "                    tt = tt.collect( list(coeffs.keys())[pp] )\n",
    "            #    print tt\n",
    "                tmp = list()\n",
    "                for pp in tt.args:\n",
    "                    tmp.append(simpler(pp, 1))\n",
    "                return Add(*tmp)\n",
    "            else:\n",
    "                return tt\n",
    "        elif len(tt.args) > 1:  \n",
    "            tmp = list()\n",
    "            for pp in tt.args:\n",
    "                tmp.append(simpler(pp.expand(), 1))\n",
    "            return tt.func(*tmp)\n",
    "        else:\n",
    "            return tt \n",
    "\n",
    "def block_simpler(symbols, exprs, tprefix = 'const real_t '):\n",
    "    opers0 = 0\n",
    "    for ee in exprs:\n",
    "        opers0 = opers0 +  ee.count_ops() + 1\n",
    "    \n",
    "    print (\"// Opers0 = \", opers0   )\n",
    "    \n",
    "    temp = cse(exprs,optimizations='basic')\n",
    "    opers = 0\n",
    "    for nn,ee in temp[0]:\n",
    "        ee = simpler(ee)\n",
    "        opers = opers +  ee.count_ops() + 1\n",
    "        print (tprefix, ccode(nn),'=',ccode(ee), '; //', ee.count_ops())\n",
    "\n",
    "    for nn,ee in zip( symbols, temp[1] ):\n",
    "        ee = simpler(ee)\n",
    "        opers = opers + ee.count_ops() + 1\n",
    "        print (ccode(nn),'=',ccode(ee), '; //', ee.count_ops())\n",
    "\n",
    "    print (\"// Opers = \", opers )\n",
    "    \n",
    "for inp, dum in zip(inputs, dummies):\n",
    "    print(\"// %s = %s\"%(dum, inp))\n",
    "block_simpler([phi], [S_fromSs.subs(dict(zip(inputs, dummies)))[2]])"
   ]
  },
  {
   "cell_type": "code",
   "execution_count": null,
   "metadata": {
    "pycharm": {
     "is_executing": true
    }
   },
   "outputs": [],
   "source": [
    "def simpler(tt, level = 0):\n",
    "    if level == 0:\n",
    "        testme = tt.simplify()\n",
    "        ops0 = testme.count_ops()\n",
    "        tested = simpler(testme, 1)\n",
    "        ops1= tested.count_ops()\n",
    "        if ops1 < ops0:\n",
    "            return tested\n",
    "        else:\n",
    "            return testme\n",
    "    else:\n",
    "        if tt.is_Add:\n",
    "            coeffs = dict()\n",
    "\n",
    "            for pp in tt.args:\n",
    "                for qq in pp.args:\n",
    "                    if qq in coeffs.keys():\n",
    "                        coeffs[qq] = coeffs[qq] + 1 \n",
    "                    else:\n",
    "                        coeffs[qq] = 1\n",
    "\n",
    "            if len(coeffs) > 2:\n",
    "                for pp in np.argsort(coeffs.values())[::-1]:\n",
    "              #  print tt\n",
    "                    tt = tt.collect( list(coeffs.keys())[pp] )\n",
    "            #    print tt\n",
    "                tmp = list()\n",
    "                for pp in tt.args:\n",
    "                    tmp.append(simpler(pp, 1))\n",
    "                return Add(*tmp)\n",
    "            else:\n",
    "                return tt\n",
    "        elif len(tt.args) > 1:  \n",
    "            tmp = list()\n",
    "            for pp in tt.args:\n",
    "                tmp.append(simpler(pp.expand(), 1))\n",
    "            return tt.func(*tmp)\n",
    "        else:\n",
    "            return tt \n",
    "\n",
    "def block_simpler(symbols, exprs, tprefix = 'const real_t '):\n",
    "    opers0 = 0\n",
    "    for ee in exprs:\n",
    "        opers0 = opers0 +  ee.count_ops() + 1\n",
    "    \n",
    "    print (\"// Opers0 = \", opers0   )\n",
    "    \n",
    "    temp = cse(exprs,optimizations='basic')\n",
    "    opers = 0\n",
    "    for nn,ee in temp[0]:\n",
    "        ee = simpler(ee)\n",
    "        opers = opers +  ee.count_ops() + 1\n",
    "        print (tprefix, ccode(nn),'=',ccode(ee), '; //', ee.count_ops())\n",
    "\n",
    "    for nn,ee in zip( symbols, temp[1] ):\n",
    "        ee = simpler(ee)\n",
    "        opers = opers + ee.count_ops() + 1\n",
    "        print (ccode(nn),'=',ccode(ee), '; //', ee.count_ops())\n",
    "\n",
    "    print (\"// Opers = \", opers )\n",
    "    \n",
    "for inp, dum in zip(inputs, dummies):\n",
    "    print(\"// %s = %s\"%(dum, inp))\n",
    "block_simpler([phi], [S_fromSs.subs(dict(zip(inputs, dummies)))[2]])"
   ]
  },
  {
   "cell_type": "code",
   "execution_count": null,
   "metadata": {
    "pycharm": {
     "is_executing": true
    }
   },
   "outputs": [],
   "source": []
  }
 ],
 "metadata": {
  "kernelspec": {
   "display_name": "Python 3",
   "language": "python",
   "name": "python3"
  },
  "language_info": {
   "codemirror_mode": {
    "name": "ipython",
    "version": 3
   },
   "file_extension": ".py",
   "mimetype": "text/x-python",
   "name": "python",
   "nbconvert_exporter": "python",
   "pygments_lexer": "ipython3",
   "version": "3.8.2"
  }
 },
 "nbformat": 4,
 "nbformat_minor": 4
}
