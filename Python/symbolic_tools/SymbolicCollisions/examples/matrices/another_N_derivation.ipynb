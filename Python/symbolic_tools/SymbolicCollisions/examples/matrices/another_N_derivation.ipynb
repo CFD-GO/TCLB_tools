{
 "cells": [
  {
   "cell_type": "code",
   "execution_count": 1,
   "metadata": {},
   "outputs": [],
   "source": [
    "\n",
    "from sympy import Symbol\n",
    "from sympy.matrices import Matrix, eye, zeros, ones, diag\n",
    "from sympy import pretty_print\n",
    "\n",
    "from SymbolicCollisions.core.cm_symbols import *\n",
    "from SymbolicCollisions.core.MatrixGenerator import MatrixGenerator\n",
    "from SymbolicCollisions.core.printers import *\n",
    "\n",
    "from sympy.printing.latex import LatexPrinter\n",
    "from IPython.display import display, Math\n",
    "\n",
    "class Printer(LatexPrinter):\n",
    "    def _print_list(self, l):\n",
    "        items = []\n",
    "\n",
    "        for expr in l:\n",
    "            if type(expr) is tuple:\n",
    "                items.append(\"%s &= %s\" % (self._print(expr[0]), self._print(expr[1])))\n",
    "            else:\n",
    "                items.append(\"%s &= %s\" % (self._print(expr.lhs), self._print(expr.rhs)))\n",
    "\n",
    "        return r\"\\begin{align} %s \\end{align}\" % r\", \\\\ \".join(items)\n",
    "\n",
    "\n",
    "def aligned(expr):\n",
    "    return Math(Printer().doprint(expr))"
   ]
  },
  {
   "cell_type": "code",
   "execution_count": 2,
   "metadata": {},
   "outputs": [],
   "source": [
    "\n",
    "\n",
    "matrixGenerator = MatrixGenerator(ex_D2Q9, ey_D2Q9, None, moments_dict[f'D2Q9'])\n",
    "Mraw = matrixGenerator.get_raw_moments_matrix()\n",
    "\n",
    "Nraw = matrixGenerator.get_shift_matrix()\n",
    "\n",
    "Traw = matrixGenerator.get_raw_x_shift_moments_matrix()\n",
    "\n",
    "Nraw_alternative = Traw* Mraw.inv()\n"
   ]
  },
  {
   "cell_type": "code",
   "execution_count": 3,
   "metadata": {},
   "outputs": [
    {
     "data": {
      "text/plain": "<IPython.core.display.Math object>",
      "text/latex": "$\\displaystyle \\left[\\begin{matrix}1 & 0 & 0 & 0 & 0 & 0 & 0 & 0 & 0\\\\- u.x & 1 & 0 & 0 & 0 & 0 & 0 & 0 & 0\\\\- u.y & 0 & 1 & 0 & 0 & 0 & 0 & 0 & 0\\\\u.x^{2} & - 2 u.x & 0 & 1 & 0 & 0 & 0 & 0 & 0\\\\u.y^{2} & 0 & - 2 u.y & 0 & 1 & 0 & 0 & 0 & 0\\\\u.x u.y & - u.y & - u.x & 0 & 0 & 1 & 0 & 0 & 0\\\\- u.x^{2} u.y & 2 u.x u.y & u.x^{2} & - u.y & 0 & - 2 u.x & 1 & 0 & 0\\\\- u.x u.y^{2} & u.y^{2} & 2 u.x u.y & 0 & - u.x & - 2 u.y & 0 & 1 & 0\\\\u.x^{2} u.y^{2} & - 2 u.x u.y^{2} & - 2 u.x^{2} u.y & u.y^{2} & u.x^{2} & 4 u.x u.y & - 2 u.y & - 2 u.x & 1\\end{matrix}\\right]$"
     },
     "execution_count": 3,
     "metadata": {},
     "output_type": "execute_result"
    }
   ],
   "source": [
    "aligned(Nraw)\n",
    "\n"
   ]
  },
  {
   "cell_type": "code",
   "execution_count": 4,
   "outputs": [
    {
     "data": {
      "text/plain": "<IPython.core.display.Math object>",
      "text/latex": "$\\displaystyle \\left[\\begin{matrix}1 & 0 & 0 & 0 & 0 & 0 & 0 & 0 & 0\\\\- u.x & 1 & 0 & 0 & 0 & 0 & 0 & 0 & 0\\\\- u.y & 0 & 1 & 0 & 0 & 0 & 0 & 0 & 0\\\\u.x^{2} & \\frac{\\left(u.x - 1\\right)^{2}}{2} - \\frac{\\left(u.x + 1\\right)^{2}}{2} & 0 & - u.x^{2} + \\frac{\\left(u.x - 1\\right)^{2}}{2} + \\frac{\\left(u.x + 1\\right)^{2}}{2} & 0 & 0 & 0 & 0 & 0\\\\u.y^{2} & 0 & \\frac{\\left(u.y - 1\\right)^{2}}{2} - \\frac{\\left(u.y + 1\\right)^{2}}{2} & 0 & - u.y^{2} + \\frac{\\left(u.y - 1\\right)^{2}}{2} + \\frac{\\left(u.y + 1\\right)^{2}}{2} & 0 & 0 & 0 & 0\\\\u.x u.y & \\frac{u.y \\left(u.x - 1\\right)}{2} - \\frac{u.y \\left(u.x + 1\\right)}{2} & \\frac{u.x \\left(u.y - 1\\right)}{2} - \\frac{u.x \\left(u.y + 1\\right)}{2} & - u.x u.y + \\frac{u.y \\left(u.x - 1\\right)}{2} + \\frac{u.y \\left(u.x + 1\\right)}{2} & - u.x u.y + \\frac{u.x \\left(u.y - 1\\right)}{2} + \\frac{u.x \\left(u.y + 1\\right)}{2} & \\frac{\\left(u.x - 1\\right) \\left(u.y - 1\\right)}{4} - \\frac{\\left(u.x - 1\\right) \\left(u.y + 1\\right)}{4} - \\frac{\\left(u.x + 1\\right) \\left(u.y - 1\\right)}{4} + \\frac{\\left(u.x + 1\\right) \\left(u.y + 1\\right)}{4} & - \\frac{u.x \\left(u.y - 1\\right)}{2} + \\frac{u.x \\left(u.y + 1\\right)}{2} + \\frac{\\left(u.x - 1\\right) \\left(u.y - 1\\right)}{4} - \\frac{\\left(u.x - 1\\right) \\left(u.y + 1\\right)}{4} + \\frac{\\left(u.x + 1\\right) \\left(u.y - 1\\right)}{4} - \\frac{\\left(u.x + 1\\right) \\left(u.y + 1\\right)}{4} & - \\frac{u.y \\left(u.x - 1\\right)}{2} + \\frac{u.y \\left(u.x + 1\\right)}{2} + \\frac{\\left(u.x - 1\\right) \\left(u.y - 1\\right)}{4} + \\frac{\\left(u.x - 1\\right) \\left(u.y + 1\\right)}{4} - \\frac{\\left(u.x + 1\\right) \\left(u.y - 1\\right)}{4} - \\frac{\\left(u.x + 1\\right) \\left(u.y + 1\\right)}{4} & u.x u.y - \\frac{u.x \\left(u.y - 1\\right)}{2} - \\frac{u.x \\left(u.y + 1\\right)}{2} - \\frac{u.y \\left(u.x - 1\\right)}{2} - \\frac{u.y \\left(u.x + 1\\right)}{2} + \\frac{\\left(u.x - 1\\right) \\left(u.y - 1\\right)}{4} + \\frac{\\left(u.x - 1\\right) \\left(u.y + 1\\right)}{4} + \\frac{\\left(u.x + 1\\right) \\left(u.y - 1\\right)}{4} + \\frac{\\left(u.x + 1\\right) \\left(u.y + 1\\right)}{4}\\\\- u.x^{2} u.y & - \\frac{u.y \\left(u.x - 1\\right)^{2}}{2} + \\frac{u.y \\left(u.x + 1\\right)^{2}}{2} & \\frac{u.x^{2} \\left(1 - u.y\\right)}{2} + \\frac{u.x^{2} \\left(u.y + 1\\right)}{2} & u.x^{2} u.y - \\frac{u.y \\left(u.x - 1\\right)^{2}}{2} - \\frac{u.y \\left(u.x + 1\\right)^{2}}{2} & u.x^{2} u.y + \\frac{u.x^{2} \\left(1 - u.y\\right)}{2} - \\frac{u.x^{2} \\left(u.y + 1\\right)}{2} & \\frac{\\left(1 - u.y\\right) \\left(u.x - 1\\right)^{2}}{4} - \\frac{\\left(1 - u.y\\right) \\left(u.x + 1\\right)^{2}}{4} + \\frac{\\left(u.x - 1\\right)^{2} \\left(u.y + 1\\right)}{4} - \\frac{\\left(u.x + 1\\right)^{2} \\left(u.y + 1\\right)}{4} & - \\frac{u.x^{2} \\left(1 - u.y\\right)}{2} - \\frac{u.x^{2} \\left(u.y + 1\\right)}{2} + \\frac{\\left(1 - u.y\\right) \\left(u.x - 1\\right)^{2}}{4} + \\frac{\\left(1 - u.y\\right) \\left(u.x + 1\\right)^{2}}{4} + \\frac{\\left(u.x - 1\\right)^{2} \\left(u.y + 1\\right)}{4} + \\frac{\\left(u.x + 1\\right)^{2} \\left(u.y + 1\\right)}{4} & \\frac{u.y \\left(u.x - 1\\right)^{2}}{2} - \\frac{u.y \\left(u.x + 1\\right)^{2}}{2} + \\frac{\\left(1 - u.y\\right) \\left(u.x - 1\\right)^{2}}{4} - \\frac{\\left(1 - u.y\\right) \\left(u.x + 1\\right)^{2}}{4} - \\frac{\\left(u.x - 1\\right)^{2} \\left(u.y + 1\\right)}{4} + \\frac{\\left(u.x + 1\\right)^{2} \\left(u.y + 1\\right)}{4} & - u.x^{2} u.y - \\frac{u.x^{2} \\left(1 - u.y\\right)}{2} + \\frac{u.x^{2} \\left(u.y + 1\\right)}{2} + \\frac{u.y \\left(u.x - 1\\right)^{2}}{2} + \\frac{u.y \\left(u.x + 1\\right)^{2}}{2} + \\frac{\\left(1 - u.y\\right) \\left(u.x - 1\\right)^{2}}{4} + \\frac{\\left(1 - u.y\\right) \\left(u.x + 1\\right)^{2}}{4} - \\frac{\\left(u.x - 1\\right)^{2} \\left(u.y + 1\\right)}{4} - \\frac{\\left(u.x + 1\\right)^{2} \\left(u.y + 1\\right)}{4}\\\\- u.x u.y^{2} & \\frac{u.y^{2} \\left(1 - u.x\\right)}{2} + \\frac{u.y^{2} \\left(u.x + 1\\right)}{2} & - \\frac{u.x \\left(u.y - 1\\right)^{2}}{2} + \\frac{u.x \\left(u.y + 1\\right)^{2}}{2} & u.x u.y^{2} + \\frac{u.y^{2} \\left(1 - u.x\\right)}{2} - \\frac{u.y^{2} \\left(u.x + 1\\right)}{2} & u.x u.y^{2} - \\frac{u.x \\left(u.y - 1\\right)^{2}}{2} - \\frac{u.x \\left(u.y + 1\\right)^{2}}{2} & \\frac{\\left(1 - u.x\\right) \\left(u.y - 1\\right)^{2}}{4} - \\frac{\\left(1 - u.x\\right) \\left(u.y + 1\\right)^{2}}{4} + \\frac{\\left(u.x + 1\\right) \\left(u.y - 1\\right)^{2}}{4} - \\frac{\\left(u.x + 1\\right) \\left(u.y + 1\\right)^{2}}{4} & \\frac{u.x \\left(u.y - 1\\right)^{2}}{2} - \\frac{u.x \\left(u.y + 1\\right)^{2}}{2} + \\frac{\\left(1 - u.x\\right) \\left(u.y - 1\\right)^{2}}{4} - \\frac{\\left(1 - u.x\\right) \\left(u.y + 1\\right)^{2}}{4} - \\frac{\\left(u.x + 1\\right) \\left(u.y - 1\\right)^{2}}{4} + \\frac{\\left(u.x + 1\\right) \\left(u.y + 1\\right)^{2}}{4} & - \\frac{u.y^{2} \\left(1 - u.x\\right)}{2} - \\frac{u.y^{2} \\left(u.x + 1\\right)}{2} + \\frac{\\left(1 - u.x\\right) \\left(u.y - 1\\right)^{2}}{4} + \\frac{\\left(1 - u.x\\right) \\left(u.y + 1\\right)^{2}}{4} + \\frac{\\left(u.x + 1\\right) \\left(u.y - 1\\right)^{2}}{4} + \\frac{\\left(u.x + 1\\right) \\left(u.y + 1\\right)^{2}}{4} & - u.x u.y^{2} + \\frac{u.x \\left(u.y - 1\\right)^{2}}{2} + \\frac{u.x \\left(u.y + 1\\right)^{2}}{2} - \\frac{u.y^{2} \\left(1 - u.x\\right)}{2} + \\frac{u.y^{2} \\left(u.x + 1\\right)}{2} + \\frac{\\left(1 - u.x\\right) \\left(u.y - 1\\right)^{2}}{4} + \\frac{\\left(1 - u.x\\right) \\left(u.y + 1\\right)^{2}}{4} - \\frac{\\left(u.x + 1\\right) \\left(u.y - 1\\right)^{2}}{4} - \\frac{\\left(u.x + 1\\right) \\left(u.y + 1\\right)^{2}}{4}\\\\u.x^{2} u.y^{2} & \\frac{u.y^{2} \\left(u.x - 1\\right)^{2}}{2} - \\frac{u.y^{2} \\left(u.x + 1\\right)^{2}}{2} & \\frac{u.x^{2} \\left(u.y - 1\\right)^{2}}{2} - \\frac{u.x^{2} \\left(u.y + 1\\right)^{2}}{2} & - u.x^{2} u.y^{2} + \\frac{u.y^{2} \\left(u.x - 1\\right)^{2}}{2} + \\frac{u.y^{2} \\left(u.x + 1\\right)^{2}}{2} & - u.x^{2} u.y^{2} + \\frac{u.x^{2} \\left(u.y - 1\\right)^{2}}{2} + \\frac{u.x^{2} \\left(u.y + 1\\right)^{2}}{2} & \\frac{\\left(u.x - 1\\right)^{2} \\left(u.y - 1\\right)^{2}}{4} - \\frac{\\left(u.x - 1\\right)^{2} \\left(u.y + 1\\right)^{2}}{4} - \\frac{\\left(u.x + 1\\right)^{2} \\left(u.y - 1\\right)^{2}}{4} + \\frac{\\left(u.x + 1\\right)^{2} \\left(u.y + 1\\right)^{2}}{4} & - \\frac{u.x^{2} \\left(u.y - 1\\right)^{2}}{2} + \\frac{u.x^{2} \\left(u.y + 1\\right)^{2}}{2} + \\frac{\\left(u.x - 1\\right)^{2} \\left(u.y - 1\\right)^{2}}{4} - \\frac{\\left(u.x - 1\\right)^{2} \\left(u.y + 1\\right)^{2}}{4} + \\frac{\\left(u.x + 1\\right)^{2} \\left(u.y - 1\\right)^{2}}{4} - \\frac{\\left(u.x + 1\\right)^{2} \\left(u.y + 1\\right)^{2}}{4} & - \\frac{u.y^{2} \\left(u.x - 1\\right)^{2}}{2} + \\frac{u.y^{2} \\left(u.x + 1\\right)^{2}}{2} + \\frac{\\left(u.x - 1\\right)^{2} \\left(u.y - 1\\right)^{2}}{4} + \\frac{\\left(u.x - 1\\right)^{2} \\left(u.y + 1\\right)^{2}}{4} - \\frac{\\left(u.x + 1\\right)^{2} \\left(u.y - 1\\right)^{2}}{4} - \\frac{\\left(u.x + 1\\right)^{2} \\left(u.y + 1\\right)^{2}}{4} & u.x^{2} u.y^{2} - \\frac{u.x^{2} \\left(u.y - 1\\right)^{2}}{2} - \\frac{u.x^{2} \\left(u.y + 1\\right)^{2}}{2} - \\frac{u.y^{2} \\left(u.x - 1\\right)^{2}}{2} - \\frac{u.y^{2} \\left(u.x + 1\\right)^{2}}{2} + \\frac{\\left(u.x - 1\\right)^{2} \\left(u.y - 1\\right)^{2}}{4} + \\frac{\\left(u.x - 1\\right)^{2} \\left(u.y + 1\\right)^{2}}{4} + \\frac{\\left(u.x + 1\\right)^{2} \\left(u.y - 1\\right)^{2}}{4} + \\frac{\\left(u.x + 1\\right)^{2} \\left(u.y + 1\\right)^{2}}{4}\\end{matrix}\\right]$"
     },
     "execution_count": 4,
     "metadata": {},
     "output_type": "execute_result"
    }
   ],
   "source": [
    "aligned(Nraw_alternative)\n"
   ],
   "metadata": {
    "collapsed": false,
    "pycharm": {
     "name": "#%%\n"
    }
   }
  }
 ],
 "metadata": {
  "kernelspec": {
   "display_name": "Python 3",
   "language": "python",
   "name": "python3"
  },
  "language_info": {
   "codemirror_mode": {
    "name": "ipython",
    "version": 3
   },
   "file_extension": ".py",
   "mimetype": "text/x-python",
   "name": "python",
   "nbconvert_exporter": "python",
   "pygments_lexer": "ipython3",
   "version": "3.8.5"
  }
 },
 "nbformat": 4,
 "nbformat_minor": 1
}