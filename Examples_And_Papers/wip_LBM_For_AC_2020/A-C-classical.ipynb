{
 "cells": [
  {
   "cell_type": "code",
   "execution_count": 1,
   "metadata": {},
   "outputs": [],
   "source": [
    "from sympy import *"
   ]
  },
  {
   "cell_type": "code",
   "execution_count": 61,
   "metadata": {},
   "outputs": [],
   "source": [
    "x,t = symbols('x,t', real=True, positive=True)\n",
    "lam = symbols('lambda_phi', real=True, positive=True)"
   ]
  },
  {
   "cell_type": "code",
   "execution_count": 62,
   "metadata": {},
   "outputs": [
    {
     "data": {
      "text/latex": [
       "$\\displaystyle \\lambda_{\\phi} \\left(1 - \\phi^{2}{\\left(t \\right)}\\right) \\phi{\\left(t \\right)} + \\frac{d}{d t} \\phi{\\left(t \\right)}$"
      ],
      "text/plain": [
       "lambda_phi*(1 - \\phi(t)**2)*\\phi(t) + Derivative(\\phi(t), t)"
      ]
     },
     "execution_count": 62,
     "metadata": {},
     "output_type": "execute_result"
    }
   ],
   "source": [
    "phi = Function('\\phi')(t)\n",
    "R = diff(phi,t)  + lam*phi*(1-phi**2)\n",
    "R"
   ]
  },
  {
   "cell_type": "code",
   "execution_count": 63,
   "metadata": {},
   "outputs": [
    {
     "data": {
      "text/latex": [
       "$\\displaystyle \\phi{\\left(t \\right)} = - \\sqrt{- \\frac{1}{C_{1} e^{2 \\lambda_{\\phi} t} - 1}}$"
      ],
      "text/plain": [
       "Eq(\\phi(t), -sqrt(-1/(C1*exp(2*lambda_phi*t) - 1)))"
      ]
     },
     "execution_count": 63,
     "metadata": {},
     "output_type": "execute_result"
    }
   ],
   "source": [
    "sol = dsolve(R, phi)[0]\n",
    "sol"
   ]
  },
  {
   "cell_type": "code",
   "execution_count": 67,
   "metadata": {},
   "outputs": [],
   "source": [
    "phi0 = Function('phi')(0)\n",
    "phi_0 = symbols('phi_0')\n"
   ]
  },
  {
   "cell_type": "code",
   "execution_count": 76,
   "metadata": {},
   "outputs": [
    {
     "data": {
      "text/latex": [
       "$\\displaystyle 1 - \\frac{1}{\\phi^{2}{\\left(0 \\right)}}$"
      ],
      "text/plain": [
       "1 - 1/phi(0)**2"
      ]
     },
     "execution_count": 76,
     "metadata": {},
     "output_type": "execute_result"
    }
   ],
   "source": [
    "C1 = solve(sol.rhs.subs(t,0) - phi0, 'C1')[0]\n",
    "\n",
    "#s_rhs = sol.subs('C1', C1).rhs.expand()\n",
    "\n",
    "C1"
   ]
  },
  {
   "cell_type": "code",
   "execution_count": 70,
   "metadata": {},
   "outputs": [
    {
     "data": {
      "text/plain": [
       "'-math.sqrt(-1/(math.exp(2*lambda_phi*t) - 1 - math.exp(2*lambda_phi*t)/phi_0**2))'"
      ]
     },
     "execution_count": 70,
     "metadata": {},
     "output_type": "execute_result"
    }
   ],
   "source": [
    "pycode(s_rhs.subs(phi0,phi_0))"
   ]
  },
  {
   "cell_type": "code",
   "execution_count": 77,
   "metadata": {},
   "outputs": [
    {
     "data": {
      "text/latex": [
       "$\\displaystyle - \\sqrt{- \\frac{1}{e^{2 \\lambda_{\\phi} t} - 1 - \\frac{e^{2 \\lambda_{\\phi} t}}{\\phi^{2}{\\left(0 \\right)}}}}$"
      ],
      "text/plain": [
       "-sqrt(-1/(exp(2*lambda_phi*t) - 1 - exp(2*lambda_phi*t)/phi(0)**2))"
      ]
     },
     "execution_count": 77,
     "metadata": {},
     "output_type": "execute_result"
    }
   ],
   "source": [
    "\n",
    "sol.subs('C1', C1).rhs.expand()"
   ]
  },
  {
   "cell_type": "code",
   "execution_count": null,
   "metadata": {},
   "outputs": [],
   "source": []
  }
 ],
 "metadata": {
  "kernelspec": {
   "display_name": "Python 3",
   "language": "python",
   "name": "python3"
  },
  "language_info": {
   "codemirror_mode": {
    "name": "ipython",
    "version": 3
   },
   "file_extension": ".py",
   "mimetype": "text/x-python",
   "name": "python",
   "nbconvert_exporter": "python",
   "pygments_lexer": "ipython3",
   "version": "3.8.6"
  }
 },
 "nbformat": 4,
 "nbformat_minor": 4
}
